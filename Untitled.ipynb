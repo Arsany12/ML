{
 "cells": [
  {
   "cell_type": "code",
   "execution_count": 1,
   "metadata": {},
   "outputs": [],
   "source": [
    "# used for manipulating directory paths\n",
    "import os\n",
    "\n",
    "# Scientific and vector computation for python\n",
    "import numpy as np\n",
    "\n",
    "# Plotting library\n",
    "from matplotlib import pyplot\n",
    "\n",
    "# Optimization module in scipy\n",
    "from scipy import optimize\n",
    "\n",
    "# tells matplotlib to embed plots within the notebook\n",
    "%matplotlib inline\n",
    "\n",
    "# Load the Pandas libraries with alias 'pd' \n",
    "import pandas as pd \n",
    "\n",
    "from sklearn.model_selection import KFold"
   ]
  },
  {
   "cell_type": "code",
   "execution_count": 2,
   "metadata": {},
   "outputs": [
    {
     "data": {
      "text/html": [
       "<div>\n",
       "<style scoped>\n",
       "    .dataframe tbody tr th:only-of-type {\n",
       "        vertical-align: middle;\n",
       "    }\n",
       "\n",
       "    .dataframe tbody tr th {\n",
       "        vertical-align: top;\n",
       "    }\n",
       "\n",
       "    .dataframe thead th {\n",
       "        text-align: right;\n",
       "    }\n",
       "</style>\n",
       "<table border=\"1\" class=\"dataframe\">\n",
       "  <thead>\n",
       "    <tr style=\"text-align: right;\">\n",
       "      <th></th>\n",
       "      <th>id</th>\n",
       "      <th>date</th>\n",
       "      <th>price</th>\n",
       "      <th>bedrooms</th>\n",
       "      <th>bathrooms</th>\n",
       "      <th>sqft_living</th>\n",
       "      <th>sqft_lot</th>\n",
       "      <th>floors</th>\n",
       "      <th>waterfront</th>\n",
       "      <th>view</th>\n",
       "      <th>...</th>\n",
       "      <th>grade</th>\n",
       "      <th>sqft_above</th>\n",
       "      <th>sqft_basement</th>\n",
       "      <th>yr_built</th>\n",
       "      <th>yr_renovated</th>\n",
       "      <th>zipcode</th>\n",
       "      <th>lat</th>\n",
       "      <th>long</th>\n",
       "      <th>sqft_living15</th>\n",
       "      <th>sqft_lot15</th>\n",
       "    </tr>\n",
       "  </thead>\n",
       "  <tbody>\n",
       "    <tr>\n",
       "      <th>0</th>\n",
       "      <td>7129300520</td>\n",
       "      <td>20141013T000000</td>\n",
       "      <td>221900.0</td>\n",
       "      <td>3</td>\n",
       "      <td>1.00</td>\n",
       "      <td>1180</td>\n",
       "      <td>5650</td>\n",
       "      <td>1.0</td>\n",
       "      <td>0</td>\n",
       "      <td>0</td>\n",
       "      <td>...</td>\n",
       "      <td>7</td>\n",
       "      <td>1180</td>\n",
       "      <td>0</td>\n",
       "      <td>1955</td>\n",
       "      <td>0</td>\n",
       "      <td>98178</td>\n",
       "      <td>47.5112</td>\n",
       "      <td>-122.257</td>\n",
       "      <td>1340</td>\n",
       "      <td>5650</td>\n",
       "    </tr>\n",
       "    <tr>\n",
       "      <th>1</th>\n",
       "      <td>6414100192</td>\n",
       "      <td>20141209T000000</td>\n",
       "      <td>538000.0</td>\n",
       "      <td>3</td>\n",
       "      <td>2.25</td>\n",
       "      <td>2570</td>\n",
       "      <td>7242</td>\n",
       "      <td>2.0</td>\n",
       "      <td>0</td>\n",
       "      <td>0</td>\n",
       "      <td>...</td>\n",
       "      <td>7</td>\n",
       "      <td>2170</td>\n",
       "      <td>400</td>\n",
       "      <td>1951</td>\n",
       "      <td>1991</td>\n",
       "      <td>98125</td>\n",
       "      <td>47.7210</td>\n",
       "      <td>-122.319</td>\n",
       "      <td>1690</td>\n",
       "      <td>7639</td>\n",
       "    </tr>\n",
       "    <tr>\n",
       "      <th>2</th>\n",
       "      <td>5631500400</td>\n",
       "      <td>20150225T000000</td>\n",
       "      <td>180000.0</td>\n",
       "      <td>2</td>\n",
       "      <td>1.00</td>\n",
       "      <td>770</td>\n",
       "      <td>10000</td>\n",
       "      <td>1.0</td>\n",
       "      <td>0</td>\n",
       "      <td>0</td>\n",
       "      <td>...</td>\n",
       "      <td>6</td>\n",
       "      <td>770</td>\n",
       "      <td>0</td>\n",
       "      <td>1933</td>\n",
       "      <td>0</td>\n",
       "      <td>98028</td>\n",
       "      <td>47.7379</td>\n",
       "      <td>-122.233</td>\n",
       "      <td>2720</td>\n",
       "      <td>8062</td>\n",
       "    </tr>\n",
       "    <tr>\n",
       "      <th>3</th>\n",
       "      <td>2487200875</td>\n",
       "      <td>20141209T000000</td>\n",
       "      <td>604000.0</td>\n",
       "      <td>4</td>\n",
       "      <td>3.00</td>\n",
       "      <td>1960</td>\n",
       "      <td>5000</td>\n",
       "      <td>1.0</td>\n",
       "      <td>0</td>\n",
       "      <td>0</td>\n",
       "      <td>...</td>\n",
       "      <td>7</td>\n",
       "      <td>1050</td>\n",
       "      <td>910</td>\n",
       "      <td>1965</td>\n",
       "      <td>0</td>\n",
       "      <td>98136</td>\n",
       "      <td>47.5208</td>\n",
       "      <td>-122.393</td>\n",
       "      <td>1360</td>\n",
       "      <td>5000</td>\n",
       "    </tr>\n",
       "    <tr>\n",
       "      <th>4</th>\n",
       "      <td>1954400510</td>\n",
       "      <td>20150218T000000</td>\n",
       "      <td>510000.0</td>\n",
       "      <td>3</td>\n",
       "      <td>2.00</td>\n",
       "      <td>1680</td>\n",
       "      <td>8080</td>\n",
       "      <td>1.0</td>\n",
       "      <td>0</td>\n",
       "      <td>0</td>\n",
       "      <td>...</td>\n",
       "      <td>8</td>\n",
       "      <td>1680</td>\n",
       "      <td>0</td>\n",
       "      <td>1987</td>\n",
       "      <td>0</td>\n",
       "      <td>98074</td>\n",
       "      <td>47.6168</td>\n",
       "      <td>-122.045</td>\n",
       "      <td>1800</td>\n",
       "      <td>7503</td>\n",
       "    </tr>\n",
       "  </tbody>\n",
       "</table>\n",
       "<p>5 rows × 21 columns</p>\n",
       "</div>"
      ],
      "text/plain": [
       "           id             date     price  bedrooms  bathrooms  sqft_living  \\\n",
       "0  7129300520  20141013T000000  221900.0         3       1.00         1180   \n",
       "1  6414100192  20141209T000000  538000.0         3       2.25         2570   \n",
       "2  5631500400  20150225T000000  180000.0         2       1.00          770   \n",
       "3  2487200875  20141209T000000  604000.0         4       3.00         1960   \n",
       "4  1954400510  20150218T000000  510000.0         3       2.00         1680   \n",
       "\n",
       "   sqft_lot  floors  waterfront  view     ...      grade  sqft_above  \\\n",
       "0      5650     1.0           0     0     ...          7        1180   \n",
       "1      7242     2.0           0     0     ...          7        2170   \n",
       "2     10000     1.0           0     0     ...          6         770   \n",
       "3      5000     1.0           0     0     ...          7        1050   \n",
       "4      8080     1.0           0     0     ...          8        1680   \n",
       "\n",
       "   sqft_basement  yr_built  yr_renovated  zipcode      lat     long  \\\n",
       "0              0      1955             0    98178  47.5112 -122.257   \n",
       "1            400      1951          1991    98125  47.7210 -122.319   \n",
       "2              0      1933             0    98028  47.7379 -122.233   \n",
       "3            910      1965             0    98136  47.5208 -122.393   \n",
       "4              0      1987             0    98074  47.6168 -122.045   \n",
       "\n",
       "   sqft_living15  sqft_lot15  \n",
       "0           1340        5650  \n",
       "1           1690        7639  \n",
       "2           2720        8062  \n",
       "3           1360        5000  \n",
       "4           1800        7503  \n",
       "\n",
       "[5 rows x 21 columns]"
      ]
     },
     "execution_count": 2,
     "metadata": {},
     "output_type": "execute_result"
    }
   ],
   "source": [
    "# Read data from file '.csv' \n",
    "data = pd.read_csv(\"house_data_complete.csv\") \n",
    "data.shape\n",
    "datac=data.copy()\n",
    "data_top = datac.head()\n",
    "data_top\n"
   ]
  },
  {
   "cell_type": "code",
   "execution_count": 3,
   "metadata": {},
   "outputs": [],
   "source": [
    "def  featureNormalize(X):\n",
    "    \n",
    "    # You need to set these values correctly\n",
    "    X_norm = X.copy()\n",
    "    mu = np.zeros(X.shape[1])\n",
    "    sigma = np.zeros(X.shape[1])\n",
    "\n",
    "    # =========================== YOUR CODE HERE =====================\n",
    "    mu = np.mean(X, axis=0)\n",
    "    X_norm = X - mu\n",
    "    sigma = np.std(X_norm, axis=0, ddof=1)\n",
    "    X_norm = X_norm / sigma\n",
    "    #for i in X_norm.head()\n",
    "    #X_norm['i']=(X_norm['i']-X_norm['i'].mean())/X_norm['i'].std()\n",
    "   # X_norm=(X_norm-np.mean(X_norm,axis=0))/np.std(X_norm,axis=0,ddof=1)\n",
    "   \n",
    "   \n",
    "    # ================================================================\n",
    "    return X_norm, mu, sigma"
   ]
  },
  {
   "cell_type": "code",
   "execution_count": 4,
   "metadata": {},
   "outputs": [],
   "source": [
    "def  Normalize(X,mu,sigma):\n",
    "    \n",
    "    # You need to set these values correctly\n",
    "    X_norm = X.copy()\n",
    "    # =========================== YOUR CODE HERE =====================\n",
    "    \n",
    "    X_norm = X - mu\n",
    "    X_norm = X_norm / sigma\n",
    "    #for i in X_norm.head()\n",
    "    #X_norm['i']=(X_norm['i']-X_norm['i'].mean())/X_norm['i'].std()\n",
    "   # X_norm=(X_norm-np.mean(X_norm,axis=0))/np.std(X_norm,axis=0,ddof=1)\n",
    "   \n",
    "   \n",
    "    # ================================================================\n",
    "    return X_norm"
   ]
  },
  {
   "cell_type": "code",
   "execution_count": 5,
   "metadata": {},
   "outputs": [],
   "source": [
    "# do selective normalization # cv training and test will be updated as well referenced not copy\n",
    "#datac['price']=(datac['price']-datac['price'].mean())/datac['price'].std()\n",
    "#datac['sqft_living']=(datac['sqft_living']-datac['sqft_living'].mean())/datac['sqft_living'].std()\n",
    "#datac['sqft_lot']=(datac['sqft_lot']-datac['sqft_lot'].mean())/datac['sqft_lot'].std()\n",
    "#datac['sqft_above']=(datac['sqft_above']-datac['sqft_above'].mean())/datac['sqft_above'].std()\n",
    "#datac['sqft_basement']=(datac['sqft_basement']-datac['sqft_basement'].mean())/datac['sqft_basement'].std()\n",
    "#datac['long']=(datac['long']-datac['long'].mean())/datac['long'].std()\n",
    "#datac['sqft_living15']=(datac['sqft_living15']-datac['sqft_living15'].mean())/datac['sqft_living15'].std()\n",
    "#datac['sqft_lot15']=(datac['sqft_lot15']-datac['sqft_lot15'].mean())/datac['sqft_lot15'].std()\n",
    "#datac['yr_built']=(datac['yr_built']-datac['yr_built'].mean())/datac['yr_built'].std()\n"
   ]
  },
  {
   "cell_type": "code",
   "execution_count": 6,
   "metadata": {},
   "outputs": [
    {
     "data": {
      "text/plain": [
       "(12967, 21)"
      ]
     },
     "execution_count": 6,
     "metadata": {},
     "output_type": "execute_result"
    }
   ],
   "source": [
    "data_t = datac[0:(int)(21613*0.6)]\n",
    "data_t.shape\n"
   ]
  },
  {
   "cell_type": "code",
   "execution_count": 7,
   "metadata": {},
   "outputs": [
    {
     "data": {
      "text/plain": [
       "(4323, 21)"
      ]
     },
     "execution_count": 7,
     "metadata": {},
     "output_type": "execute_result"
    }
   ],
   "source": [
    "data_cv = datac[(int)(21613*0.6):(int)(21613*0.8)]\n",
    "data_cv.shape"
   ]
  },
  {
   "cell_type": "code",
   "execution_count": 8,
   "metadata": {},
   "outputs": [
    {
     "data": {
      "text/plain": [
       "(4323, 21)"
      ]
     },
     "execution_count": 8,
     "metadata": {},
     "output_type": "execute_result"
    }
   ],
   "source": [
    "data_te = datac[(int)(21613*0.8):(int)(21613)]\n",
    "data_te.shape"
   ]
  },
  {
   "cell_type": "code",
   "execution_count": 9,
   "metadata": {},
   "outputs": [
    {
     "data": {
      "image/png": "[encoded data removed]",
      "text/plain": [
       "<Figure size 432x288 with 1 Axes>"
      ]
     },
     "metadata": {},
     "output_type": "display_data"
    }
   ],
   "source": [
    "datac.plot(kind='scatter',x='bedrooms',y='price',color='red')\n",
    "# add axes labels\n",
    "pyplot.xlabel('Exam 1 score')\n",
    "pyplot.ylabel('Exam 2 score')\n",
    "pyplot.show()\n",
    "\n",
    "\n"
   ]
  },
  {
   "cell_type": "code",
   "execution_count": 10,
   "metadata": {},
   "outputs": [
    {
     "data": {
      "text/plain": [
       "0"
      ]
     },
     "execution_count": 10,
     "metadata": {},
     "output_type": "execute_result"
    }
   ],
   "source": [
    "#check for nulls\n",
    "datac.isnull().sum().sum()\n"
   ]
  },
  {
   "cell_type": "code",
   "execution_count": 11,
   "metadata": {
    "scrolled": true
   },
   "outputs": [
    {
     "name": "stdout",
     "output_type": "stream",
     "text": [
      " (4323, 5)\n"
     ]
    }
   ],
   "source": [
    "data_t_h1=pd.concat([data_t['bedrooms'].copy(), data_t['grade'].copy(), data_t['sqft_living'].copy(), data_t['yr_built'].copy(),data_t['bathrooms'].copy()], axis=1)\n",
    "data_t_h1,mu1,sigma1=featureNormalize((data_t_h1))\n",
    "data_t_y1=pd.concat([data_t['price'].copy()])\n",
    "data_cv_h1=pd.concat([data_cv['bedrooms'].copy(), data_cv['grade'].copy(), data_cv['sqft_living'].copy(), data_cv['yr_built'].copy(),data_cv['bathrooms'].copy()], axis=1)\n",
    "print('',data_cv_h1.shape)\n",
    "data_cv_y1=pd.concat([data_cv['price'].copy()])\n",
    "\n",
    "data_te_h1=pd.concat([data_te['bedrooms'].copy(), data_te['grade'].copy(), data_te['sqft_living'].copy(), data_te['yr_built'].copy(), data_te['bathrooms'].copy()], axis=1)\n",
    "data_te_y1=pd.concat([data_te['price'].copy()])\n",
    "\n",
    "data_t_h2=pd.concat([data_t['yr_built'].copy(), data_t['bathrooms'].copy(), data_t['sqft_living15'].copy(), data_t['sqft_lot15'].copy()], axis=1)\n",
    "data_t_h2,mu2,sigma2=featureNormalize((data_t_h2))\n",
    "data_t_y2=pd.concat([data_t['price'].copy()])\n",
    "data_cv_h2=pd.concat([data_cv['yr_built'].copy(), data_cv['bathrooms'].copy(), data_cv['sqft_living15'].copy(), data_cv['sqft_lot15'].copy()], axis=1)\n",
    "data_cv_y2=pd.concat([data_cv['price'].copy()])\n",
    "data_te_h2=pd.concat([data_te['yr_built'].copy(), data_te['bathrooms'].copy(), data_te['sqft_living15'].copy(), data_te['sqft_lot15'].copy()], axis=1)\n",
    "data_te_y2=pd.concat([data_te['price'].copy()])\n",
    "\n",
    "data_t_h3=pd.concat([data_t['bedrooms'].copy(), data_t['bathrooms'].copy(), data_t['sqft_living'].copy(), data_t['yr_renovated'].copy() ], axis=1)\n",
    "data_t_h3,mu3,sigma3=featureNormalize((data_t_h3))\n",
    "data_t_y3=pd.concat([data_t['price'].copy()])\n",
    "data_cv_h3=pd.concat([data_cv['bedrooms'].copy(), data_cv['bathrooms'].copy(), data_cv['sqft_living'].copy(), data_cv['yr_renovated'].copy() ], axis=1)\n",
    "data_cv_y3=pd.concat([data_cv['price'].copy()])\n",
    "data_te_h3=pd.concat([data_te['bedrooms'].copy(), data_te['bathrooms'].copy(), data_te['sqft_living'].copy(), data_te['yr_renovated'].copy() ], axis=1)\n",
    "data_te_y3=pd.concat([data_te['price'].copy()])\n"
   ]
  },
  {
   "cell_type": "code",
   "execution_count": 12,
   "metadata": {},
   "outputs": [],
   "source": [
    "def computeCost(X, y,lambda_,theta):  \n",
    "    # initialize some useful values\n",
    "    m = y.size  # number of training examples\n",
    "    # You need to return the following variables correctly \n",
    "    J = 0\n",
    "     # ====================== YOUR CODE HERE =====================\n",
    "    H=np.dot(X,np.transpose(theta))\n",
    "    J=np.power(np.sum(H-y),2)/(2*m)\n",
    "#     L= np.sum(np.power(theta,2))\n",
    "    #J=J+(lambda_*L)/(2*m)\n",
    "    #grad[1:]=grad[1:]+(lambda_/m)* theta[1:]\n",
    "\n",
    "    #J=J/(2*m)\n",
    "   # print('',J)\n",
    "    # ===========================================================\n",
    "    return J"
   ]
  },
  {
   "cell_type": "code",
   "execution_count": 13,
   "metadata": {},
   "outputs": [],
   "source": [
    "def computeCostM(X, y,lambda_,theta):  \n",
    "    # initialize some useful values\n",
    "    m = y.size  # number of training examples\n",
    "    # You need to return the following variables correctly \n",
    "    J = 0\n",
    "     # ====================== YOUR CODE HERE =====================\n",
    "    H=np.dot(X,np.transpose(theta))\n",
    "    J=np.power(np.sum(H-y),2)/(2*m)\n",
    "    L= np.sum(np.power(theta,2))\n",
    "    J=J+(lambda_*L)/(2*m)\n",
    "    grad=np.dot(H-y,X)/m\n",
    "    grad[1 :]=grad[1:]+(lambda_/m)* theta[1:]\n",
    "\n",
    "    #J=J/(2*m)\n",
    "   # print('',J)\n",
    "    # ===========================================================\n",
    "    return J,grad"
   ]
  },
  {
   "cell_type": "code",
   "execution_count": 14,
   "metadata": {},
   "outputs": [],
   "source": [
    "def gradientDescent(X, y, theta,X_cv,y_cv, alpha,lambda_, num_iters):\n",
    "   \n",
    "    # Initialize some useful values\n",
    "    m = y.shape[0]  # number of training examples\n",
    "    \n",
    "    # make a copy of theta, to avoid changing the original array, since numpy arrays\n",
    "    # are passed by reference to functions\n",
    "    theta = theta.copy()\n",
    "    \n",
    "    J_history = [] # Use a python list to save cost in every iteration\n",
    "    J_CV_history = [] # Use a python list to save cost in every iteration    \n",
    "    for i in range(num_iters):\n",
    "        alphabym=alpha/m\n",
    "        sumofh0x=np.dot(X,theta)\n",
    "        cost=((alpha/m)*(np.dot(X.T,sumofh0x-y)))\n",
    "        #print('',cost)\n",
    "        theta=theta-cost\n",
    "        theta = theta.copy()\n",
    "        # save the cost J in every iteration\n",
    "        J_history.append(computeCost(X, y,lambda_,theta))\n",
    "        J_CV_history.append(computeCost(X, y,lambda_,theta))\n",
    "       # print(theta)\n",
    "    return theta, J_history,J_CV_history"
   ]
  },
  {
   "cell_type": "code",
   "execution_count": 15,
   "metadata": {},
   "outputs": [
    {
     "data": {
      "image/png": "[encoded data removed]",
      "text/plain": [
       "<Figure size 432x288 with 1 Axes>"
      ]
     },
     "metadata": {},
     "output_type": "display_data"
    },
    {
     "name": "stdout",
     "output_type": "stream",
     "text": [
      "2792354898773.1875\n"
     ]
    }
   ],
   "source": [
    "m,n=data_t_h1.shape\n",
    "mcv,ncv=data_cv_h1.shape\n",
    "\n",
    "thetas=np.zeros(n+1)\n",
    "Xh1 = np.concatenate([np.ones((m, 1)), data_t_h1], axis=1)\n",
    "data_cv_h1=Normalize(data_cv_h1,mu1,sigma1)\n",
    "\n",
    "X_cv1 = np.concatenate([np.ones((mcv, 1)), data_cv_h1], axis=1)\n",
    "yh1=np.array(data_t_y1)\n",
    "y_cv1=np.array(data_cv_y1)\n",
    "\n",
    "#print('',X_cv1)\n",
    "alpha=0.08\n",
    "iterations=500\n",
    "lambda_=0\n",
    "theta1, J_history,J_CV_history = gradientDescent(Xh1 ,yh1,thetas,X_cv1,y_cv1, alpha,lambda_, iterations)\n",
    "pyplot.plot(np.arange(len(J_history)), J_history, 'r')\n",
    "pyplot.plot(np.arange(len(J_CV_history)), J_CV_history,'g')\n",
    "pyplot.xlabel('Number of iterations')\n",
    "pyplot.ylabel('Cost J')\n",
    "pyplot.show()\n",
    "te=np.concatenate([np.ones((mcv, 1)),Normalize(data_te_h1,mu1,sigma1)],axis=1)\n",
    "h1_cost=computeCost(te,data_te_y1,lambda_,theta1)\n",
    "print(h1_cost)"
   ]
  },
  {
   "cell_type": "code",
   "execution_count": 16,
   "metadata": {},
   "outputs": [
    {
     "data": {
      "image/png": "[encoded data removed]",
      "text/plain": [
       "<Figure size 432x288 with 1 Axes>"
      ]
     },
     "metadata": {},
     "output_type": "display_data"
    },
    {
     "name": "stdout",
     "output_type": "stream",
     "text": [
      "4719021469557.589\n"
     ]
    }
   ],
   "source": [
    "m,n=data_t_h2.shape\n",
    "mcv,ncv=data_cv_h2.shape\n",
    "\n",
    "thetas2=np.zeros(n+1)\n",
    "Xh2 = np.concatenate([np.ones((m, 1)), data_t_h2], axis=1)\n",
    "data_cv_h2=Normalize(data_cv_h2,mu2,sigma2)\n",
    "X_cv2 = np.concatenate([np.ones((mcv, 1)), data_cv_h2], axis=1)\n",
    "\n",
    "yh2=np.array(data_t_y2)\n",
    "y_cv2=np.array(data_cv_y2)\n",
    "\n",
    "#print('',y)\n",
    "alpha=0.08\n",
    "iterations=500\n",
    "theta2, J_history2,J_CV_history2 = gradientDescent(Xh2 ,yh2,thetas2,X_cv2,y_cv2, alpha, lambda_,iterations)\n",
    "pyplot.plot(np.arange(len(J_history2)), J_history2, 'r')\n",
    "pyplot.plot(np.arange(len(J_CV_history2)), J_CV_history2,'g')\n",
    "pyplot.xlabel('Number of iterations')\n",
    "pyplot.ylabel('Cost J')\n",
    "pyplot.show()\n",
    "te=np.concatenate([np.ones((mcv, 1)),Normalize(data_te_h2,mu2,sigma2)],axis=1)\n",
    "h2_cost=computeCost(te,data_te_y2,lambda_,theta2)\n",
    "print(h2_cost)"
   ]
  },
  {
   "cell_type": "code",
   "execution_count": 17,
   "metadata": {},
   "outputs": [
    {
     "data": {
      "image/png": "[encoded data removed]",
      "text/plain": [
       "<Figure size 432x288 with 1 Axes>"
      ]
     },
     "metadata": {},
     "output_type": "display_data"
    },
    {
     "name": "stdout",
     "output_type": "stream",
     "text": [
      "15396415592.974337\n"
     ]
    }
   ],
   "source": [
    "m,n=data_t_h3.shape\n",
    "mcv,ncv=data_cv_h3.shape\n",
    "\n",
    "thetas3=np.zeros(n+1)\n",
    "Xh3 = np.concatenate([np.ones((m, 1)), data_t_h3], axis=1)\n",
    "data_cv_h3=Normalize(data_cv_h3,mu3,sigma3)\n",
    "X_cv3 = np.concatenate([np.ones((mcv, 1)), data_cv_h3], axis=1)\n",
    "\n",
    "yh3=np.array(data_t_y3)\n",
    "y_cv3=np.array(data_cv_y3)\n",
    "\n",
    "#print('',y)\n",
    "alpha=0.08\n",
    "iterations=500\n",
    "theta3, J_history3,J_CV_history3 = gradientDescent(Xh3 ,yh3,thetas3,X_cv3,y_cv3, alpha, lambda_,iterations)\n",
    "pyplot.plot(np.arange(len(J_history3)), J_history3, 'r')\n",
    "pyplot.plot(np.arange(len(J_CV_history3)), J_CV_history3,'g')\n",
    "pyplot.xlabel('Number of iterations')\n",
    "pyplot.ylabel('Cost J')\n",
    "pyplot.show()\n",
    "te=np.concatenate([np.ones((mcv, 1)),Normalize(data_te_h3,mu3,sigma3)],axis=1)\n",
    "h3_hyp= computeCost(te,data_te_y3,lambda_,theta3)\n",
    "print(h3_hyp)"
   ]
  },
  {
   "cell_type": "code",
   "execution_count": 18,
   "metadata": {},
   "outputs": [],
   "source": [
    "# pyplot.plot(np.arange(len(J_CV_history)-200), J_CV_history[200:],'g')\n",
    "# pyplot.plot(np.arange(len(J_CV_history2)-200), J_CV_history2[200:],'r')\n",
    "# pyplot.plot(np.arange(len(J_CV_history3)-200), J_CV_history3[200:],'b')\n",
    "# pyplot.xlabel('Number of iterations')\n",
    "# pyplot.ylabel('Cost J')\n",
    "# pyplot.show()"
   ]
  },
  {
   "cell_type": "code",
   "execution_count": 19,
   "metadata": {},
   "outputs": [],
   "source": [
    "##  the three fold testing ## assuming constant mu and sigma for training and cv \n",
    "#mte,nte=data_te_h3.shape\n",
    "#data_te_h1=Normalize(data_te_h1,mu1,sigma1)\n",
    "#data_te_h2=Normalize(data_te_h2,mu2,sigma2)\n",
    "#data_te_h3=Normalize(data_te_h3,mu3,sigma3)\n",
    "#X_te1 = np.concatenate([np.ones((mcv, 1)), data_te_h1], axis=1)\n",
    "#X_te2 = np.concatenate([np.ones((mcv, 1)), data_te_h2], axis=1)\n",
    "#X_te3 = np.concatenate([np.ones((mcv, 1)), data_te_h3], axis=1)\n",
    "\n",
    "#y_te1=np.array(data_te_y1)\n",
    "#y_te2=np.array(data_te_y2)\n",
    "#y_te3=np.array(data_te_y3)\n",
    "\n",
    "\n",
    "#theta1, J_history3fh1,J_CVT_history3cv1 = gradientDescent(X_cv1,y_cv1,theta1,Xh1 ,yh1, alpha, iterations)\n",
    "#theta2, J_history3h2,J_CVT_history3cv2 = gradientDescent(X_cv2,y_cv2,theta2,Xh2 ,yh2, alpha, iterations)\n",
    "#theta3, J_history3h3,J_CVT_history3cv3 = gradientDescent(X_cv3,y_cv3,theta3,Xh3 ,yh3, alpha, iterations)\n",
    "\n",
    "#theta1, J_history3fh1,J_CVT_history3te1 = gradientDescent(X_te1,y_te1,theta1,Xh1 ,yh1, alpha, iterations)\n",
    "#theta2, J_history3h2,J_CVT_history3te2 = gradientDescent(X_te2,y_te2,theta2,Xh2 ,yh2, alpha, iterations)\n",
    "#theta3, J_history3h3,J_CVT_history3te3 = gradientDescent(X_te3,y_te3,theta3,Xh3 ,yh3, alpha, iterations)\n"
   ]
  },
  {
   "cell_type": "code",
   "execution_count": 20,
   "metadata": {},
   "outputs": [],
   "source": [
    "# pyplot.plot(np.arange(len(J_CVT_history3cv1)-200), J_CVT_history3cv1[200:],'g')\n",
    "# pyplot.plot(np.arange(len(J_CVT_history3cv2)-200), J_CVT_history3cv2[200:],'r')\n",
    "# pyplot.plot(np.arange(len(J_CVT_history3cv3)-200), J_CVT_history3cv3[200:],'b')\n",
    "# pyplot.xlabel('Number of iterations')\n",
    "# pyplot.ylabel('Cost J')\n",
    "# pyplot.show()"
   ]
  },
  {
   "cell_type": "code",
   "execution_count": 21,
   "metadata": {},
   "outputs": [],
   "source": [
    "# pyplot.plot(np.arange(len(J_CVT_history3te1)-200), J_CVT_history3te1[200:],'g')\n",
    "# pyplot.plot(np.arange(len(J_CVT_history3te2)-200), J_CVT_history3te2[200:],'r')\n",
    "# pyplot.plot(np.arange(len(J_CVT_history3te3)-200), J_CVT_history3te3[200:],'b')\n",
    "# pyplot.xlabel('Number of iterations')\n",
    "# pyplot.ylabel('Cost J')\n",
    "# pyplot.show()"
   ]
  },
  {
   "cell_type": "code",
   "execution_count": 22,
   "metadata": {},
   "outputs": [
    {
     "name": "stdout",
     "output_type": "stream",
     "text": [
      " [[-0.39183769 -0.50877316 -0.96670786 -0.44324372 -1.4015796 ]\n",
      " [-0.39183769 -0.50877316  0.57067134 -0.58657723  0.24667587]\n",
      " [-1.46026124 -1.36398295 -1.42017943 -1.23157798 -1.4015796 ]\n",
      " ...\n",
      " [-0.39183769  0.34643663  0.53749049 -2.23491249 -0.08297522]\n",
      " [-0.39183769  2.912066    3.42422411 -0.4790771   2.88388463]\n",
      " [ 0.67658585  1.20164642  1.51079531  1.67092542  3.21353573]]\n"
     ]
    }
   ],
   "source": [
    "k_fold_data=np.concatenate((data_t_h1,data_cv_h1))\n",
    "k_fold_data,mu_k,sigma_k=featureNormalize(k_fold_data)\n",
    "print('',k_fold_data)\n",
    "k_fold_y=np.concatenate((data_t_y1,data_cv_y1))\n",
    "kf = KFold(n_splits=10)\n",
    "#kf.get_n_splits(k_fold_data)\n",
    "#kf.get_n_splits(k_fold_y)\n",
    "#print(kf)\n",
    "#kf.split(k_fold_data)"
   ]
  },
  {
   "cell_type": "code",
   "execution_count": 23,
   "metadata": {},
   "outputs": [],
   "source": [
    "m_kf,n_kf=k_fold_data.shape\n",
    "k_fold_data=np.concatenate([np.ones((m_kf, 1)), k_fold_data], axis=1)\n",
    "alpha=0.18\n",
    "iterations=900\n",
    "theta_kf=np.zeros(n_kf+1)\n",
    "for train_index, test_index in kf.split(k_fold_data):\n",
    "   # print(\"TRAIN:\", train_index, \"TEST:\", test_index) \n",
    "    X_train, X_test = k_fold_data[train_index], k_fold_data[test_index]\n",
    "    y_train, y_test = k_fold_y[train_index], k_fold_y[test_index]\n",
    "    theta_kf, J_history_kf,J_CVT_history_kf = gradientDescent(X_train,y_train,theta_kf,X_test ,y_test, alpha, lambda_,iterations)\n",
    "   "
   ]
  },
  {
   "cell_type": "code",
   "execution_count": 24,
   "metadata": {},
   "outputs": [],
   "source": [
    "m_kft,n_kft=data_te_h1.shape\n",
    "data_te_h1=Normalize(data_te_h1,mu_k,sigma_k)\n",
    "data_te_h1=np.concatenate([np.ones((m_kft, 1)), data_te_h1], axis=1)\n"
   ]
  },
  {
   "cell_type": "code",
   "execution_count": 25,
   "metadata": {},
   "outputs": [
    {
     "name": "stdout",
     "output_type": "stream",
     "text": [
      " 5.1187852389215e+19\n"
     ]
    }
   ],
   "source": [
    "cost_kf=computeCost(data_te_h1,data_te_y1,lambda_,theta_kf)\n",
    "print('',cost_kf)"
   ]
  },
  {
   "cell_type": "code",
   "execution_count": 26,
   "metadata": {},
   "outputs": [
    {
     "name": "stdout",
     "output_type": "stream",
     "text": [
      " [1994595905.9528909, 1339073854.2716517, 894600709.6358007, 595637538.9890672, 395522026.57825893, 262004499.33556142, 173139212.03218964, 114118570.99460842, 75000329.51966542, 49129399.93251505, 32060508.38014829, 20829438.999510795, 13462594.931951074, 8647943.74260549, 5514675.194223717, 3485865.8097374947, 2180077.511994031, 1345711.1001734994, 817261.2502668159, 486201.8008535883, 281634.6938429809, 157448.11948688107, 83809.3218412081, 41540.3379698468, 18408.40230947393, 6685.874222925905, 1550.3444568394436, 39.570471558809814, 371.88032287572327, 1506.6036152214074, 2861.5983441064727, 4133.1745756314795, 5182.435088302867, 5964.441560768075, 6484.795899069534, 6773.615311009767, 6870.419085542095, 6815.761684303735, 6646.9567882248575, 6396.216496802507, 6090.161524692007, 5750.062636113715, 5392.4301719484765, 5029.729494273659, 4671.0997131525555, 4323.0134546563795, 3989.850999643887, 3674.3823902220197, 3378.161835657221, 3101.843862816976, 2845.432478210507, 2608.4746209078585, 2390.208251081153, 2189.6741462644773, 2005.7990379484534, 1837.4564088353236, 1683.510060014358, 1542.8445338253512, 1414.3856147531324, 1297.1134344267816, 1190.0701189361973, 1092.3634883543048, 1003.1679400044927, 921.7233784384136, 847.3328349026704, 779.3592519695251, 717.2217827089339, 660.391852427796, 608.3891655107868, 560.777771755394, 517.1622843631669, 477.18429085519455, 440.5189953895199, 406.8720993098184, 375.9769298178099, 347.5918062589626, 321.4976390113522, 297.4957459295216, 275.4058730976529, 255.06440481127703, 236.32274628694665, 219.04586595005568, 203.11098260913008, 188.4063809131926, 174.83034894202174, 162.29021881435602, 150.70150653694498, 139.98713617476014, 130.07674224050098, 120.90604219833361, 112.41627077159195, 104.55367075806737, 97.26903362666765, 90.51728548471793, 84.25711383725105, 78.45062932539395, 73.06306159730634, 68.06248274535217, 63.419558420407974, 59.10732133910728, 55.10096662913522, 51.377666413529866, 47.91640058372995, 44.69780397959367, 41.704027179518214, 38.91860985953032, 36.326365419382945, 33.91327597753401, 31.66639683451236, 29.573768987417417, 27.62433916822577, 25.807887476942113, 24.11496058030836, 22.53681063850793, 21.065339723232874, 19.6930490253814, 18.412991641509688, 17.218729958978738, 16.104296302239717, 15.064156553480263, 14.093177363752948, 13.186595368001127, 12.339989195785062, 11.549253858946193, 10.81057690478823, 10.120416581070568, 9.475481570041085, 8.872712684185753, 8.309265656497818, 7.782495256503186, 7.28994087115438, 6.8293130757666844, 6.398481077275873, 5.995461430211955, 5.618407259090142, 5.265598562483511, 4.935433144329122, 4.626418218714324, 4.337162591774294, 4.06636958006392, 3.812830295933078, 3.575417439584316, 3.353079671099539, 3.144836221043317, 2.949772059646018, 2.7670332790180145, 2.5958229208167882, 2.435397031403105, 2.285060968739316, 2.1441661012671576, 2.01210661866972, 1.888316595812412, 1.7722672977997043, 1.66346473390247, 1.5614471617845875, 1.4657830410252035, 1.3760689644650208, 1.2919277185196367, 1.2130065873810714, 1.1389757047665767, 1.069526521729175, 1.0043704182541255, 0.9432373574674111, 0.8858746311204155, 0.8320457711153135, 0.7815294578458764, 0.7341185027998567, 0.6896189687445975, 0.6478492402764973, 0.6086392693434268, 0.5718298098849108, 0.5372717189002821, 0.5048252900405132, 0.47435963854942753, 0.44575214285420967, 0.4188879047048781, 0.39365925941615787, 0.3699653062055279, 0.3477114690569427, 0.32680910553777304, 0.3071751157533498, 0.28873158752121547, 0.2714054641155159, 0.2551282549752066, 0.239835719396145, 0.22546761550257827, 0.21196744381370272, 0.19928220743508457, 0.18736217465082755, 0.17616071495465924, 0.16563405728606007, 0.15574114999038235, 0.1464434559001062, 0.13770481793880335, 0.12949130448916085, 0.121771065534256, 0.11451420313988735, 0.1076926644352319, 0.10128010540362019, 0.09525179159747688, 0.08958451345171049, 0.08425646852741073, 0.07924718522680445, 0.0745374451867376, 0.07010920192623582, 0.06594549983642918, 0.06203041804810837, 0.058349004987572284, 0.05488721351165594, 0.051631852236991266, 0.048570528573333854, 0.0456916008416698, 0.04298413332950566, 0.04043784509899555, 0.038043081718429385, 0.035790770750485666, 0.03367238847938966, 0.031679924352491326, 0.029805850959326002, 0.028043094639242584, 0.026385007336374555, 0.024825340627330564, 0.023358220969745585, 0.021978128138842253, 0.020679876170904905, 0.01945858724469988, 0.01830967642050252, 0.01722883328721213, 0.01621200625561569, 0.015255387853706098, 0.014355399362084065, 0.013508670192696179, 0.012712036385129296, 0.011962522073297337, 0.011257331215433142, 0.010593829949066927, 0.009969543317954063, 0.009382145847183013, 0.008829450137801377, 0.00830939929352587, 0.007820058072194403, 0.007359605494375485, 0.006926332308969106, 0.006518626397864628, 0.006134976534453052, 0.005773956270117174, 0.005434228778030762, 0.005114533187906915, 0.0048136857755661224, 0.0045305719916037554, 0.004264142958690879, 0.00401341323264873, 0.0037774558473534425, 0.003555396429879786, 0.0033464154294243955, 0.00314974024157523, 0.0029646454544382528, 0.002790446200163502, 0.0026264999168363395, 0.0024722016026050386, 0.002326982605973685, 0.0021903078077170385, 0.0020616727535983535, 0.0019406044995221802, 0.0018266560741473008, 0.0017194082596775752, 0.0016184654860811054, 0.0015234573317472857, 0.0014340342952335982, 0.0013498666686153661, 0.001270645603320434, 0.001196079806439884, 0.0011258949800907086, 0.0010598339486012247, 0.0009976533728344285, 0.000939124926938638, 0.0008840338965716043, 0.0008321786702364075, 0.0007833678915137709, 0.0007374232714931645, 0.000694176197151858, 0.0006534679925671493, 0.0006151490751506756, 0.0005790796132860242, 0.0005451267184999945, 0.0005131664706818582, 0.0004830818486875267, 0.00045476268006730753, 0.00042810492015376466, 0.0004030112226982231, 0.0003793895651015397, 0.00035715330165081823, 0.00033622141211743983, 0.00031651721769725507, 0.0002979687834385782, 0.0002805079365760073, 0.0002640711377750137, 0.00024859810063764215, 0.00023403220620661424, 0.00022032026684801103, 0.00020741246047157038, 0.00019526143314116553, 0.00018382257329081666, 0.00017305426051834516, 0.00016291703835519646, 0.00015337407506131574, 0.00014439047342561297, 0.00013593317009307884, 0.0001279715604178886, 0.00012047643931383104, 0.00011342060768937092, 0.00010677820774071614, 0.00010052504657700736, 9.463824748553806e-05, 8.909625002645054e-05, 8.387906767346154e-05, 7.896743702563022e-05, 7.434349231978843e-05, 6.99905476916583e-05, 6.589249154879918e-05, 6.203448103899584e-05, 5.840256280504765e-05, 5.498324468985286e-05, 5.176428258086062e-05, 4.87338011473584e-05, 4.588075989954178e-05, 4.31947889657453e-05, 4.0666157399108416e-05, 3.8285597056832675e-05, 3.604441949803779e-05, 3.393456277956279e-05, 3.194815518534323e-05, 3.0078094256246524e-05, 2.831760691909594e-05, 2.666008164238607e-05, 2.5099698432775232e-05, 2.363061616174017e-05, 2.2247530138045305e-05, 2.0945418056572253e-05, 1.9719510230644663e-05, 1.856539103506505e-05, 1.7478893034302538e-05, 1.645596272335631e-05, 1.5492925093682007e-05, 1.4586251333650361e-05, 1.3732625051511587e-05, 1.2929004045616631e-05, 1.217239958434134e-05, 1.1460066312244374e-05, 1.0789414392201664e-05, 1.0158049647921398e-05, 9.563633142927372e-06, 9.003987227668848e-06, 8.477092553701906e-06, 7.981046807658685e-06, 7.514043032996216e-06, 7.074374015855029e-06, 6.6604454987679805e-06, 6.270706996993069e-06, 5.903809609959134e-06, 5.558354102210946e-06, 5.2331223252662e-06, 4.926917095899108e-06, 4.638633154991913e-06, 4.367242734404724e-06, 4.111728616611693e-06, 3.871178851940738e-06, 3.6446851866981918e-06, 3.4314373293967173e-06, 3.23068174505439e-06, 3.0416631088672034e-06, 2.86372009698864e-06, 2.696163432618278e-06, 2.5384125886382584e-06, 2.3899072194272754e-06, 2.2500809867304614e-06, 2.118451461546996e-06, 1.9945264461308163e-06, 1.8778352330813813e-06, 1.7679730970298988e-06, 1.6645327822249516e-06, 1.5671673262802458e-06, 1.4754899404671853e-06, 1.3891565861642895e-06, 1.3078972962184696e-06, 1.2313822694367545e-06, 1.1593358345358375e-06, 1.0915168002123785e-06, 1.0276591998472718e-06, 9.675426277635788e-07, 9.109493209031311e-07, 8.576669857861469e-07, 8.074899305139918e-07, 7.602508044916319e-07, 7.157785702035271e-07, 6.739109076028328e-07, 6.344896962895978e-07, 5.973694565422065e-07, 5.624308140579587e-07, 5.295289616937887e-07, 4.985477910343424e-07, 4.693877703596006e-07, 4.419362288806759e-07, 4.16085308608058e-07, 3.9174682017522317e-07, 3.688350621016739e-07, 3.47255628511607e-07, 3.269394708123026e-07, 3.0781338335081446e-07, 2.8981208616139654e-07, 2.728553958548958e-07, 2.5690107306066323e-07, 2.4186884814555577e-07, 2.2772076347269377e-07, 2.1439979639644918e-07, 2.018553290736966e-07, 1.9004453335501772e-07, 1.789263710543521e-07, 1.6845976816344689e-07, 1.5860505739120614e-07, 1.4932919334516498e-07, 1.405948722322818e-07, 1.32369847737651e-07, 1.2462497898481947e-07, 1.1733809952225337e-07, 1.1047237788764698e-07, 1.0401373683844884e-07, 9.793215187983439e-08, 9.220226358815016e-08, 8.680804622405968e-08, 8.172875522989938e-08, 7.695109350111399e-08, 7.244806801270155e-08, 6.821260253024633e-08, 6.422408557874607e-08, 6.046907620049083e-08, 5.693478099645294e-08, 5.360213444663791e-08, 5.046899828125346e-08, 4.7516044675469733e-08, 4.473671112082073e-08, 4.2118651647018954e-08, 3.9657018951897414e-08, 3.733643973288815e-08, 3.515244353817253e-08, 3.309517402699031e-08, 3.1159202460112075e-08, 2.93374472699251e-08, 2.762334817687557e-08, 2.600871933759799e-08, 2.4487300501809227e-08, 2.3054461384344688e-08, 2.1704562512095507e-08, 2.043609939503925e-08, 1.924060572080206e-08, 1.811649328240374e-08, 1.7057982261200308e-08, 1.6060502248653888e-08, 1.5121879218919933e-08, 1.4235982893430158e-08, 1.3404207924799587e-08, 1.2621079402290407e-08, 1.1883071413529286e-08, 1.118692367308104e-08, 1.0532471367362776e-08, 9.916182914800992e-09, 9.334899489292175e-09, 8.788455335693894e-09, 8.275067996541372e-09, 7.790115593330267e-09, 7.335085217036301e-09, 6.906378419241563e-09, 6.50213811661384e-09, 6.12255625287476e-09, 5.763756424054407e-09, 5.426276735716358e-09, 5.109329745814067e-09, 4.810521969803008e-09, 4.529084950204211e-09, 4.26351791947939e-09, 4.013750822100856e-09, 3.778604922886095e-09, 3.5571970039145425e-09, 3.349947624612617e-09, 3.153562598941193e-09, 2.969859238903136e-09, 2.796433315223194e-09, 2.6329444716791337e-09, 2.479435814044722e-09, 2.334109983453995e-09, 2.1974231610150967e-09, 2.068657027197717e-09, 1.9480559222381903e-09, 1.8337387506209276e-09, 1.7263155875080687e-09, 1.6256396765326342e-09, 1.5303631391014523e-09, 1.440734709273657e-09, 1.3567749100734115e-09, 1.2771784808774266e-09, 1.2028139420506396e-09, 1.1324584782194818e-09, 1.0661831885951281e-09, 1.0040575518875817e-09, 9.455646310443436e-10, 8.902214060381438e-10, 8.380733634223525e-10, 7.892974871326693e-10, 7.433356339982509e-10, 6.997285026643606e-10, 6.585292496521255e-10, 6.199104773142733e-10, 5.838608951353371e-10, 5.494671575695597e-10, 5.17272792308177e-10, 4.869063377395452e-10, 4.583544377629784e-10, 4.316920859885613e-10, 4.064631339719189e-10, 3.829084795660594e-10, 3.6048331047961146e-10, 3.393098273986522e-10, 3.194350026768521e-10, 3.0086755689821746e-10, 2.8325036427034435e-10, 2.6667923455773383e-10, 2.511724930661534e-10, 2.363797944522253e-10, 2.2271840694173727e-10, 2.0954279430073343e-10, 1.9718379367080284e-10, 1.8571288098205121e-10, 1.7482210124889853e-10, 1.645159613577377e-10, 1.548709076087109e-10, 1.4586842033556345e-10, 1.3727622098534344e-10, 1.2936238676562566e-10, 1.2187970057303568e-10, 1.1462308406979255e-10, 1.0784822822470823e-10, 1.0155874332541871e-10, 9.556242215158363e-11, 9.007352404530452e-11, 8.488192245347999e-11, 8.000336551487761e-11, 7.525929219159329e-11, 7.085951100933071e-11, 6.664463750236466e-11, 6.276141760659204e-11, 5.904179715661148e-11, 5.5569986791018286e-11, 5.2274338559483544e-11, 4.9187035536643925e-11, 4.631289568256953e-11, 4.367502739349495e-11, 4.109622390095976e-11, 3.875755004737422e-11, 3.650332964796427e-11, 3.4360200125713834e-11, 3.231334241118885e-11, 3.0391353872826336e-11, 2.8573762683825933e-11, 2.6883222636520642e-11, 2.532769060672465e-11, 2.387987245448658e-11, 2.2458347410102022e-11, 2.115419049623547e-11, 1.9901568022891736e-11, 1.875835076343211e-11, 1.766199029235146e-11, 1.6605868527218185e-11, 1.5683830728372798e-11, 1.480226029479292e-11, 1.3964252360548933e-11, 1.31019274073899e-11, 1.2366538107220587e-11, 1.1612343460122274e-11, 1.091171049759767e-11, 1.0273514496261813e-11, 9.687777153331163e-12, 9.09673483683125e-12, 8.55422190476115e-12, 8.069725200402944e-12, 7.596383375666861e-12, 7.172875702924214e-12, 6.7456001744496155e-12, 6.327884910165719e-12, 5.969813327928033e-12, 5.61231043121041e-12, 5.267153560356524e-12, 4.9713891349251824e-12, 4.687370086378581e-12, 4.419025910089249e-12, 4.147445210569224e-12, 3.8993070566515045e-12, 3.658620614942853e-12, 3.4336959977114173e-12, 3.2570106241868686e-12, 3.056498920149044e-12, 2.8675038057000303e-12, 2.695033467647384e-12, 2.537388804377783e-12, 2.3905964054047394e-12, 2.2581622245740087e-12, 2.137737216875501e-12, 2.0061396313844683e-12, 1.8862552207543523e-12, 1.7853522519424298e-12, 1.6887317595587984e-12, 1.5853993036628168e-12, 1.4933692818909397e-12, 1.4152226149611903e-12, 1.3273746147364165e-12, 1.253097138099963e-12, 1.1740151515480834e-12, 1.104046344315513e-12, 1.0495757007595632e-12, 9.869987786784373e-13, 9.34921317312547e-13, 8.772398030516917e-13, 8.342674440229111e-13, 7.824243578338213e-13, 7.263832483019553e-13, 6.830984361558642e-13, 6.518227257954872e-13, 6.139117020412612e-13, 5.732287614040454e-13, 5.431920095908106e-13, 5.090702474163387e-13, 4.719844266365271e-13, 4.468813773248076e-13, 4.165557430512167e-13, 3.9544632850871694e-13, 3.7258789510239777e-13, 3.475034525142776e-13, 3.333354739295005e-13, 3.150615282842509e-13, 2.9278349839320423e-13, 2.8252291838680476e-13, 2.684699427937698e-13, 2.5171497859179986e-13, 2.3425127912868903e-13, 2.2524343679839526e-13, 2.1218924232086765e-13, 2.0024221812921663e-13, 1.8599095275138704e-13, 1.715215361699176e-13, 1.6354439215031374e-13, 1.5435194028238668e-13, 1.4330719035101136e-13, 1.3212685942255016e-13, 1.2727509526506958e-13, 1.2129020496178317e-13, 1.1529164199190197e-13, 1.0769875064881628e-13, 9.934353713099866e-14, 9.103869480584235e-14, 8.783075867203009e-14, 8.348633541444932e-14, 7.871205311969281e-14, 7.382566138004476e-14, 6.772610876459611e-14, 6.184224077020075e-14, 6.059873979150047e-14, 5.916737487105184e-14, 5.658177705493552e-14, 5.343223090398768e-14, 5.0339699866382425e-14, 4.6675492998160825e-14, 4.316289088404522e-14, 3.911241936775513e-14, 3.8683451047151134e-14, 3.812891610381341e-14, 3.725161758080125e-14, 3.6131210845344277e-14, 3.405073772819579e-14, 3.252134404229808e-14, 3.0833972463910075e-14, 2.8339182923586712e-14, 2.6150709028626623e-14, 2.3886704597960245e-14, 2.1137841332693447e-14, 1.83847650560775e-14, 1.8718399168210612e-14, 1.8465022743912525e-14, 1.8290400045338134e-14, 1.794647230415796e-14, 1.7510672778286892e-14, 1.664969343143316e-14, 1.6079730585903365e-14, 1.5249916731873872e-14, 1.4161773779562148e-14, 1.3327567544601034e-14, 1.2029750914608842e-14, 1.0888557373790735e-14, 9.648033328173307e-15, 8.387481760119683e-15, 7.357539165029256e-15, 6.083155961440746e-15, 6.609585173874744e-15, 6.880115082569433e-15, 7.150712881926475e-15, 7.49218652615914e-15, 5.970044432536275e-15, 6.240626067449899e-15, 6.2372901722442485e-15, 6.187358763922803e-15, 6.18237665950375e-15, 6.215628591796942e-15, 6.05847620071013e-15, 5.979838078626598e-15, 5.675193948191594e-15, 5.751809396748481e-15, 5.192757773483205e-15, 4.998315237700799e-15, 4.682489325662146e-15, 4.452735618974103e-15, 3.946632469524383e-15, 3.601644898250636e-15, 3.162241816286709e-15, 2.7992491731455703e-15, 2.486730060314417e-15, 2.1572509904919908e-15, 1.7525851859529259e-15, 1.4064965373851607e-15, 1.0984375846690616e-15, 8.727466157458474e-16, 5.979568745555589e-16, 9.131287397698715e-16, 6.298702794548782e-16, 8.997776898596208e-16, 6.052079094358003e-16, 9.163220534366896e-16, 5.779879900313447e-16, 8.054735466106399e-16, 1.1927621285604244e-15, 7.443509924562558e-16, 9.163220534366896e-16, 5.938330463425049e-16, 8.175043516699173e-16, 1.0445263788993563e-15, 6.453331860278694e-16, 8.504329950947634e-16, 5.067189590044601e-16, 6.823263508802661e-16, 7.769634816636434e-16, 9.714611995115091e-16, 6.177399237199342e-16, 7.84634234678134e-16, 9.655466854045784e-16, 5.033969986638242e-16, 6.828780600559366e-16, 8.000887803321161e-16, 4.0116904525168187e-16, 5.067189590044601e-16, 6.431892234361346e-16, 7.72848683243119e-16, 9.182407171308632e-16, 5.057687126893629e-16, 5.835859040051366e-16, 7.023283446437557e-16, 8.150910560071742e-16, 8.547491244450233e-16, 4.986702924507649e-16, 5.840961430225227e-16, 6.245817194844175e-16, 7.283069462726826e-16, 8.175043516699173e-16, 3.749655906408743e-16, 4.911539377406396e-16, 5.764659683349555e-16, 6.534048172391092e-16, 6.900705685031152e-16, 7.547573266915545e-16, 8.369391406878399e-16, 4.3615949130413485e-16, 4.657517936076498e-16, 5.469406648624324e-16, 5.558661131228659e-16, 6.145948804255278e-16, 6.52325701292354e-16, 7.687448097567663e-16, 8.066726138754434e-16, 8.553666061835643e-16, 4.1956206376108934e-16, 4.143876582048308e-16, 4.735313500481768e-16, 5.024498737584905e-16, 6.214192854784725e-16, 6.235266829844082e-16, 6.609836001445013e-16, 6.812236014024457e-16, 6.950720702542688e-16, 8.084728869564504e-16, 8.363283476845061e-16, 3.476755509956637e-16, 3.611917011866111e-16, 3.9443036748830895e-16, 4.671199743942742e-16, 4.3307787951527635e-16, 5.133956544882466e-16, 5.1148356805036e-16, 5.518903289157304e-16, 5.86650682477057e-16, 6.088498142771784e-16, 6.325229203591176e-16, 7.489671115805567e-16, 6.604408092824403e-16, 7.277371775119527e-16, 6.469434990289931e-16, 7.345891178581668e-16, 7.887802471962917e-16, 8.096741837996562e-16, 3.4925230884183143e-16, 3.7619330798814846e-16, 3.619947953271507e-16, 4.4102409694138177e-16, 4.2607521966906086e-16, 4.2389859375373107e-16, 4.1610889273147316e-16, 4.3792531739882494e-16, 4.776760248192932e-16, 4.920903606696419e-16, 5.143530354542313e-16, 5.105288625784581e-16, 5.464469247252239e-16, 5.081460006609075e-16, 5.177108920071456e-16, 5.528829372204728e-16, 5.79512018348296e-16, 5.469406648624324e-16, 5.769730859425784e-16, 5.60855909587407e-16, 6.1616639876245e-16, 6.251095721711826e-16, 6.319919462625893e-16, 6.166906841237711e-16, 6.464065050707783e-16, 6.5881377444329875e-16, 6.945154560061129e-16, 6.845345253299896e-16, 7.323015704173184e-16, 7.42048283882271e-16, 6.906253990885491e-16, 7.288769379912527e-16, 7.034480389174342e-16, 7.787303110686145e-16, 7.045686250224736e-16, 7.414731641333754e-16, 7.512805221308729e-16, 7.947220736386517e-16, 3.332596544404333e-16, 3.2369197612119226e-16, 3.259755103209165e-16, 3.2635687970664473e-16, 3.075615337745266e-16, 3.1613816449390686e-16, 3.275023256108708e-16, 3.2979923728100935e-16, 3.4688850981962126e-16, 3.42575724836965e-16, 3.476755509956637e-16, 3.7048112812123427e-16, 3.7088769174290945e-16, 3.402346675144592e-16, 3.5519692225719443e-16, 3.619947953271507e-16, 3.977925717191078e-16, 3.9484986266471797e-16, 3.5241652651049834e-16, 3.9359204600901165e-16, 4.015921077535347e-16, 3.8071210601518524e-16, 3.990570771100213e-16, 4.0413516487929677e-16, 3.977925717191078e-16, 3.990570771100213e-16, 3.745567974407968e-16, 4.321994256247361e-16, 3.885808455918078e-16, 4.1999471345007246e-16, 4.221613062625915e-16, 3.798884997533437e-16, 4.020153932132278e-16, 4.1783369458355934e-16, 3.786547625443831e-16, 4.247685752463423e-16, 4.0116904525168187e-16, 4.156782496630522e-16, 4.4013761656859294e-16, 4.1481763239973103e-16, 4.269474307400745e-16, 4.05409703373021e-16, 4.39252028027165e-16, 4.36600613391047e-16, 4.450242950320235e-16, 4.630214518960873e-16, 4.490425527077246e-16, 4.643856194415874e-16]\n"
     ]
    }
   ],
   "source": [
    "print('',J_history_kf)"
   ]
  },
  {
   "cell_type": "code",
   "execution_count": 27,
   "metadata": {},
   "outputs": [],
   "source": [
    "## The folding increased the overfitting isuue thus error increased th \n",
    "#at might be solved by decreasing the num of iterations \n",
    "# \n",
    "#"
   ]
  }
 ],
 "metadata": {
  "kernelspec": {
   "display_name": "Python 3",
   "language": "python",
   "name": "python3"
  },
  "language_info": {
   "codemirror_mode": {
    "name": "ipython",
    "version": 3
   },
   "file_extension": ".py",
   "mimetype": "text/x-python",
   "name": "python",
   "nbconvert_exporter": "python",
   "pygments_lexer": "ipython3",
   "version": "3.6.6"
  }
 },
 "nbformat": 4,
 "nbformat_minor": 2
}
